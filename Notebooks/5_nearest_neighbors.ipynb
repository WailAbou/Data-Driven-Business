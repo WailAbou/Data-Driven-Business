{
 "cells": [
  {
   "cell_type": "markdown",
   "metadata": {},
   "source": [
    "# K Nearest Neighbors Model\n",
    "\n",
    "In this notebook we will expirement with a knn model to get an optimal predicted repair time."
   ]
  },
  {
   "cell_type": "markdown",
   "metadata": {},
   "source": [
    "## Imports"
   ]
  },
  {
   "cell_type": "code",
   "execution_count": 1,
   "metadata": {},
   "outputs": [],
   "source": [
    "from pandas import read_csv as pd_read_csv\n",
    "from numpy import sqrt as np_sqrt\n",
    "import matplotlib.pyplot as plt\n",
    "import seaborn as sns\n",
    "\n",
    "from sklearn.neighbors import KNeighborsClassifier\n",
    "from sklearn.model_selection import train_test_split\n",
    "from sklearn.metrics import mean_squared_error, accuracy_score, confusion_matrix"
   ]
  },
  {
   "cell_type": "markdown",
   "metadata": {},
   "source": [
    "## Fetching"
   ]
  },
  {
   "cell_type": "code",
   "execution_count": 2,
   "metadata": {},
   "outputs": [
    {
     "name": "stdout",
     "output_type": "stream",
     "text": [
      "No less than 252751 rows and 12 columns!\n"
     ]
    }
   ],
   "source": [
    "df = pd_read_csv(\"../Data/CSV/cleaned.csv\", sep=';', low_memory=False)\n",
    "print(f'No less than {df.shape[0]} rows and {df.shape[1]} columns!')"
   ]
  },
  {
   "cell_type": "markdown",
   "metadata": {},
   "source": [
    "## Model"
   ]
  },
  {
   "cell_type": "code",
   "execution_count": 11,
   "metadata": {},
   "outputs": [
    {
     "name": "stdout",
     "output_type": "stream",
     "text": [
      "189563 elementen in de trainset en 63188 elementen in de testset\n"
     ]
    }
   ],
   "source": [
    "model = KNeighborsClassifier(n_neighbors=20)\n",
    "\n",
    "feature_names = ['prioriteit', 'oorzaakcode', 'geocode']\n",
    "features = df[feature_names]\n",
    "target_names = ['hersteltijd_15']\n",
    "targets = df[target_names]\n",
    "# normalize for beter model results.\n",
    "normalized_features=(features-features.mean())/features.std()\n",
    "#: Split data into train set (80%) and test set (20%).\n",
    "features_train, features_test, targets_train, targets_test = train_test_split(normalized_features, targets, random_state=10)\n",
    "model.fit(features_train, targets_train.values.ravel())\n",
    "print(f'{len(features_train)} elementen in de trainset en {len(features_test)} elementen in de testset')"
   ]
  },
  {
   "cell_type": "code",
   "execution_count": 4,
   "metadata": {},
   "outputs": [
    {
     "name": "stdout",
     "output_type": "stream",
     "text": [
      "Scores (methode 1 = 0.3195226941824397) and (methode 2 = 0.3195226941824397) so the methods are equal is True.\n",
      "With a mean error of: 51.15788735995665\n"
     ]
    }
   ],
   "source": [
    "#: We calculate the module score by using the test set, \n",
    "#: this is why splitting your data into a training and test set is important.\n",
    "score_1 = model.score(features_test, targets_test)\n",
    "\n",
    "# An alternative way to calculate the predicted value is by predicting the model's targets by using the features test as input\n",
    "# and scoring it against the actual targets of the test set.\n",
    "targets_model = model.predict(features_test)\n",
    "score_2 = accuracy_score(targets_test, targets_model)\n",
    "print(f'Scores (methode 1 = {score_1}) and (methode 2 = {score_2}) so the methods are equal is {score_1 == score_2}.')\n",
    "print(f'With a mean error of: {np_sqrt(mean_squared_error(targets_test, targets_model))}')"
   ]
  },
  {
   "cell_type": "markdown",
   "metadata": {},
   "source": [
    "## Displaying"
   ]
  },
  {
   "cell_type": "code",
   "execution_count": 5,
   "metadata": {
    "scrolled": true
   },
   "outputs": [
    {
     "data": {
      "text/plain": [
       "<matplotlib.axes._subplots.AxesSubplot at 0x157e0481be0>"
      ]
     },
     "execution_count": 5,
     "metadata": {},
     "output_type": "execute_result"
    },
    {
     "data": {
      "image/png": "[encoded data removed]",
      "text/plain": [
       "<Figure size 432x288 with 2 Axes>"
      ]
     },
     "metadata": {
      "needs_background": "light"
     },
     "output_type": "display_data"
    }
   ],
   "source": [
    "targets_model = model.predict(features_train)\n",
    "conf = confusion_matrix(targets_train, targets_model)\n",
    "sns.heatmap(conf)"
   ]
  },
  {
   "cell_type": "markdown",
   "metadata": {},
   "source": [
    "We see that the model predicts 0 at a good rate but the rest of the predictions are bad, but it predicts more values in contrast to our previous model."
   ]
  },
  {
   "cell_type": "markdown",
   "metadata": {},
   "source": [
    "## Predicting"
   ]
  },
  {
   "cell_type": "code",
   "execution_count": 6,
   "metadata": {},
   "outputs": [
    {
     "data": {
      "text/html": [
       "<div>\n",
       "<style scoped>\n",
       "    .dataframe tbody tr th:only-of-type {\n",
       "        vertical-align: middle;\n",
       "    }\n",
       "\n",
       "    .dataframe tbody tr th {\n",
       "        vertical-align: top;\n",
       "    }\n",
       "\n",
       "    .dataframe thead th {\n",
       "        text-align: right;\n",
       "    }\n",
       "</style>\n",
       "<table border=\"1\" class=\"dataframe\">\n",
       "  <thead>\n",
       "    <tr style=\"text-align: right;\">\n",
       "      <th></th>\n",
       "      <th>meldnummer</th>\n",
       "      <th>oorzaakcode</th>\n",
       "      <th>prioriteit</th>\n",
       "      <th>melddatum</th>\n",
       "      <th>geocode</th>\n",
       "      <th>beschrijving</th>\n",
       "      <th>hersteltijd</th>\n",
       "      <th>hersteltijd_15</th>\n",
       "      <th>hersteltijd_dt</th>\n",
       "      <th>hersteltijd_lr</th>\n",
       "    </tr>\n",
       "  </thead>\n",
       "  <tbody>\n",
       "    <tr>\n",
       "      <th>0</th>\n",
       "      <td>80774347</td>\n",
       "      <td>130</td>\n",
       "      <td>9</td>\n",
       "      <td>2014-07-31 10:28:00</td>\n",
       "      <td>555</td>\n",
       "      <td>test ESB</td>\n",
       "      <td>2</td>\n",
       "      <td>0</td>\n",
       "      <td>0</td>\n",
       "      <td>0</td>\n",
       "    </tr>\n",
       "    <tr>\n",
       "      <th>1</th>\n",
       "      <td>80626718</td>\n",
       "      <td>298</td>\n",
       "      <td>9</td>\n",
       "      <td>2011-07-31 11:43:00</td>\n",
       "      <td>666</td>\n",
       "      <td>Mtna : E-boog AC-trip aangesproken, geen trei...</td>\n",
       "      <td>1</td>\n",
       "      <td>0</td>\n",
       "      <td>0</td>\n",
       "      <td>0</td>\n",
       "    </tr>\n",
       "    <tr>\n",
       "      <th>2</th>\n",
       "      <td>80878866</td>\n",
       "      <td>221</td>\n",
       "      <td>9</td>\n",
       "      <td>2017-01-31 10:43:25</td>\n",
       "      <td>564</td>\n",
       "      <td>Gvc : Inttel geeft fout melding.</td>\n",
       "      <td>186</td>\n",
       "      <td>180</td>\n",
       "      <td>180</td>\n",
       "      <td>0</td>\n",
       "    </tr>\n",
       "    <tr>\n",
       "      <th>3</th>\n",
       "      <td>80704628</td>\n",
       "      <td>221</td>\n",
       "      <td>9</td>\n",
       "      <td>2013-01-31 09:20:00</td>\n",
       "      <td>114</td>\n",
       "      <td>Wspl : RH60 gelijkrichter defect, er staa een...</td>\n",
       "      <td>59</td>\n",
       "      <td>45</td>\n",
       "      <td>0</td>\n",
       "      <td>0</td>\n",
       "    </tr>\n",
       "    <tr>\n",
       "      <th>4</th>\n",
       "      <td>80651548</td>\n",
       "      <td>221</td>\n",
       "      <td>9</td>\n",
       "      <td>2012-01-31 01:52:00</td>\n",
       "      <td>76</td>\n",
       "      <td>Bv-Utg : sp BA t.o.b.s. gemaakt tijdens werkz...</td>\n",
       "      <td>155</td>\n",
       "      <td>150</td>\n",
       "      <td>0</td>\n",
       "      <td>0</td>\n",
       "    </tr>\n",
       "  </tbody>\n",
       "</table>\n",
       "</div>"
      ],
      "text/plain": [
       "   meldnummer  oorzaakcode  prioriteit            melddatum  geocode  \\\n",
       "0    80774347          130           9  2014-07-31 10:28:00      555   \n",
       "1    80626718          298           9  2011-07-31 11:43:00      666   \n",
       "2    80878866          221           9  2017-01-31 10:43:25      564   \n",
       "3    80704628          221           9  2013-01-31 09:20:00      114   \n",
       "4    80651548          221           9  2012-01-31 01:52:00       76   \n",
       "\n",
       "                                        beschrijving  hersteltijd  \\\n",
       "0                                           test ESB            2   \n",
       "1   Mtna : E-boog AC-trip aangesproken, geen trei...            1   \n",
       "2                   Gvc : Inttel geeft fout melding.          186   \n",
       "3   Wspl : RH60 gelijkrichter defect, er staa een...           59   \n",
       "4   Bv-Utg : sp BA t.o.b.s. gemaakt tijdens werkz...          155   \n",
       "\n",
       "   hersteltijd_15  hersteltijd_dt  hersteltijd_lr  \n",
       "0               0               0               0  \n",
       "1               0               0               0  \n",
       "2             180             180               0  \n",
       "3              45               0               0  \n",
       "4             150               0               0  "
      ]
     },
     "execution_count": 6,
     "metadata": {},
     "output_type": "execute_result"
    }
   ],
   "source": [
    "subset_df = pd_read_csv(\"../Data/CSV/subset.csv\", sep=';')\n",
    "features = subset_df[feature_names]\n",
    "targets = subset_df['hersteltijd_15']\n",
    "subset_df.head()"
   ]
  },
  {
   "cell_type": "code",
   "execution_count": 7,
   "metadata": {},
   "outputs": [
    {
     "name": "stdout",
     "output_type": "stream",
     "text": [
      "Score = 0.5, predictions = [ 0  0  0  0 15  0  0  0  0  0], ground truth = [  0   0 180  45 150   0 195   0   0  45].\n"
     ]
    }
   ],
   "source": [
    "targets_model = model.predict(features)\n",
    "score = accuracy_score(targets, targets_model)\n",
    "print(f'Score = {score}, predictions = {targets_model}, ground truth = {targets.values}.')"
   ]
  },
  {
   "cell_type": "markdown",
   "metadata": {},
   "source": [
    "With a score of 0.5 we would think that it does reasonable well but we see that a lot of the answers are using it's default answer (0)."
   ]
  },
  {
   "cell_type": "markdown",
   "metadata": {},
   "source": [
    "## Saving"
   ]
  },
  {
   "cell_type": "code",
   "execution_count": 8,
   "metadata": {},
   "outputs": [],
   "source": [
    "subset_df['hersteltijd_knn'] = targets_model\n",
    "subset_df.to_csv('../Data/CSV/subset.csv', sep=';', index=False)"
   ]
  },
  {
   "cell_type": "markdown",
   "metadata": {},
   "source": [
    "## Conclusion\n",
    "\n",
    "With a score of ~0.32 the model scores suboptimal, the best model is the decision tree model with the best practical results with you can see in the GUI and the predicting section of the notebook."
   ]
  }
 ],
 "metadata": {
  "kernelspec": {
   "display_name": "Python 3",
   "language": "python",
   "name": "python3"
  },
  "language_info": {
   "codemirror_mode": {
    "name": "ipython",
    "version": 3
   },
   "file_extension": ".py",
   "mimetype": "text/x-python",
   "name": "python",
   "nbconvert_exporter": "python",
   "pygments_lexer": "ipython3",
   "version": "3.7.6"
  }
 },
 "nbformat": 4,
 "nbformat_minor": 5
}
