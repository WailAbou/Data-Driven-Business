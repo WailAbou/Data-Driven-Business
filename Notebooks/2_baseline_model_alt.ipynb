{
 "cells": [
  {
   "cell_type": "markdown",
   "metadata": {},
   "source": [
    "# inladen"
   ]
  },
  {
   "cell_type": "code",
   "execution_count": 4,
   "metadata": {},
   "outputs": [],
   "source": [
    "import pandas as pd\n",
    "import numpy as np\n",
    "from sklearn.metrics import mean_squared_error"
   ]
  },
  {
   "cell_type": "code",
   "execution_count": 6,
   "metadata": {},
   "outputs": [
    {
     "name": "stdout",
     "output_type": "stream",
     "text": [
      "aantal rijen en kolommen: (259140, 11)\n"
     ]
    }
   ],
   "source": [
    "df = pd.read_csv('../Data/CSV/cleaned.csv', sep=';', low_memory=False)\n",
    "print('aantal rijen en kolommen:', df.shape)"
   ]
  },
  {
   "cell_type": "markdown",
   "metadata": {},
   "source": [
    "# Baseline model\n",
    "\n",
    "Aan de hand van deze columns zullen we de stm_fh_duur nemen als targetvariable en daarvan een baseline model maken."
   ]
  },
  {
   "cell_type": "code",
   "execution_count": 7,
   "metadata": {},
   "outputs": [
    {
     "data": {
      "text/plain": [
       "3      14474\n",
       "1      13922\n",
       "15      6844\n",
       "30      6726\n",
       "5       6468\n",
       "       ...  \n",
       "356        4\n",
       "337        4\n",
       "347        4\n",
       "344        3\n",
       "358        1\n",
       "Name: hersteltijd, Length: 358, dtype: int64"
      ]
     },
     "execution_count": 7,
     "metadata": {},
     "output_type": "execute_result"
    }
   ],
   "source": [
    "#\n",
    "time_spans = df['hersteltijd']\n",
    "time_spans = time_spans[time_spans > 0].sort_values()\n",
    "time_spans.value_counts()"
   ]
  },
  {
   "cell_type": "markdown",
   "metadata": {},
   "source": [
    "We zien dat 3 minuten het vaakst voorkomt met '14474' waarnemingen. Laten we dus als baseline model pakken 'Alle oplostijden kosten  '3.0' minuten', laten we nu de score bekijken."
   ]
  },
  {
   "cell_type": "code",
   "execution_count": 8,
   "metadata": {},
   "outputs": [],
   "source": [
    "#\n",
    "def range_score(van, tot):\n",
    "    # bepaal percentage repareertijd o.b.v. gewenenste randvoorwaarden.\n",
    "    range_values = df[(df['hersteltijd'] >= van) & (df['hersteltijd'] < tot)]\n",
    "    score = len(range_values) / len(df) * 100\n",
    "    print(round(score, 4), '% van de storingen zijn binnen {} tot {} minuten opgelost.'.format(van, tot))"
   ]
  },
  {
   "cell_type": "code",
   "execution_count": 9,
   "metadata": {},
   "outputs": [
    {
     "name": "stdout",
     "output_type": "stream",
     "text": [
      "5.5854 % van de storingen zijn binnen 2.9 tot 3.1 minuten opgelost.\n",
      "14.7256 % van de storingen zijn binnen 0 tot 5 minuten opgelost.\n",
      "geef starttijd: 0\n",
      "geef eindtijd: 30\n",
      "49.0113 % van de storingen zijn binnen 0.0 tot 30.0 minuten opgelost.\n"
     ]
    }
   ],
   "source": [
    "range_score(2.9, 3.1)\n",
    "range_score(0, 5)\n",
    "range_score(float(input('geef starttijd: ')), float(input('geef eindtijd: ')))"
   ]
  },
  {
   "cell_type": "code",
   "execution_count": 10,
   "metadata": {},
   "outputs": [
    {
     "name": "stdout",
     "output_type": "stream",
     "text": [
      "69.19659563125424\n"
     ]
    }
   ],
   "source": [
    "# x en y vectors\n",
    "x = df[['hersteltijd']]\n",
    "y = df[['hersteltijd']].apply(lambda yy: yy * 0 + 5.0)\n",
    "\n",
    "print(np.sqrt(mean_squared_error(x, y)))"
   ]
  }
 ],
 "metadata": {
  "kernelspec": {
   "display_name": "Python 3",
   "language": "python",
   "name": "python3"
  },
  "language_info": {
   "codemirror_mode": {
    "name": "ipython",
    "version": 3
   },
   "file_extension": ".py",
   "mimetype": "text/x-python",
   "name": "python",
   "nbconvert_exporter": "python",
   "pygments_lexer": "ipython3",
   "version": "3.7.6"
  }
 },
 "nbformat": 4,
 "nbformat_minor": 4
}
