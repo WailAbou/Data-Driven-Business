{
 "cells": [
  {
   "cell_type": "markdown",
   "metadata": {},
   "source": [
    "# Data cleaning\n",
    "\n",
    "\n",
    "In the section below, the original dataset will be examined and cleaned up if necessary.  \n",
    "The dataset is from the source below:\n",
    "\n",
    "https://hogeschoolutrecht.sharepoint.com/:x:/r/sites/InstituteforICT-onderwijs/Gedeelde%20%20documenten/HBO-ICT%20-%20AAI/Data-driven%20business/sap_storing_data_hu_project.csv?d=w6af4a30998cb446283565c25459c2351&csf=1&web=1&e=bmoqi0"
   ]
  },
  {
   "cell_type": "markdown",
   "metadata": {},
   "source": [
    "## Imports"
   ]
  },
  {
   "cell_type": "code",
   "execution_count": 1,
   "metadata": {},
   "outputs": [],
   "source": [
    "#: Data analysis tools\n",
    "import pandas as pd\n",
    "import numpy as np\n",
    "from scipy import stats"
   ]
  },
  {
   "cell_type": "markdown",
   "metadata": {},
   "source": [
    "## Fetching"
   ]
  },
  {
   "cell_type": "code",
   "execution_count": 2,
   "metadata": {},
   "outputs": [
    {
     "name": "stdout",
     "output_type": "stream",
     "text": [
      "No less than 898526 rows and 140 columns!\n"
     ]
    }
   ],
   "source": [
    "#: Requires a lot of calculation power.\n",
    "df = pd.read_csv(\"../Data/CSV/sap_storing_data_hu_project.csv\", low_memory=False)\n",
    "oorzaakcodes = pd.read_csv('../Data/CSV/oorzaakcodes.csv', sep=';')\n",
    "geocodes = pd.read_csv('../Data/CSV/geocodes.csv', sep=';')\n",
    "print(f'No less than {df.shape[0]} rows and {df.shape[1]} columns!')"
   ]
  },
  {
   "cell_type": "markdown",
   "metadata": {},
   "source": [
    "## Cleaning"
   ]
  },
  {
   "cell_type": "code",
   "execution_count": 3,
   "metadata": {},
   "outputs": [],
   "source": [
    "columns = {\n",
    "    '#stm_sap_meldnr': 'meldnummer', \n",
    "    'stm_sap_meld_ddt': 'melddatum', \n",
    "    'stm_aanntpl_dd': 'startdatum_monteur', \n",
    "    'stm_aanntpl_tijd': 'starttijd_monteur', \n",
    "    'stm_fh_ddt': 'oplosdatum', \n",
    "    'stm_prioriteit': 'prioriteit', \n",
    "    'stm_oorz_code': 'oorzaakcode', \n",
    "    'stm_geo_gst': 'geocode', \n",
    "    'stm_sap_meldtekst_lang': 'eerste_beschrijving', \n",
    "    'stm_sap_meldtekst': 'tweede_beschrijving', \n",
    "    'stm_oorz_tekst_kort': 'derde_beschrijving', \n",
    "    'stm_fh_duur': 'duur'\n",
    "}\n",
    "\n",
    "df = df.rename(columns=columns)"
   ]
  },
  {
   "cell_type": "code",
   "execution_count": 4,
   "metadata": {},
   "outputs": [],
   "source": [
    "#: Sort on priority from high to low and all dates from old to new.\n",
    "df = df.sort_values(by=['prioriteit', 'melddatum'], ascending=False)"
   ]
  },
  {
   "cell_type": "code",
   "execution_count": 5,
   "metadata": {},
   "outputs": [
    {
     "name": "stdout",
     "output_type": "stream",
     "text": [
      "Amount of rows 540712, amount of columns 140.\n"
     ]
    }
   ],
   "source": [
    "#: Delete all rows where repairtime is lower than 0 or bigger than 360 minutes.\n",
    "df = df[df['duur'] != 0.0]\n",
    "df = df[df['duur'] < 360.0]\n",
    "print(f'Amount of rows {df.shape[0]}, amount of columns {df.shape[1]}.')"
   ]
  },
  {
   "cell_type": "code",
   "execution_count": 6,
   "metadata": {},
   "outputs": [],
   "source": [
    "df['starttijd_monteur'] = df.starttijd_monteur.fillna('23:59')  #: Replace empty start times with '23:59'.\n",
    "df['startdatum_monteur'] = df['startdatum_monteur'] + ' ' + df['starttijd_monteur'] #: Concat start date and time\n",
    "df = df.drop(columns=['starttijd_monteur'])"
   ]
  },
  {
   "cell_type": "code",
   "execution_count": 7,
   "metadata": {
    "scrolled": false
   },
   "outputs": [],
   "source": [
    "#: This cell needs a lot of time as it is changing the data types for all the rows.\n",
    "df['melddatum'] = pd.to_datetime(df['melddatum'], infer_datetime_format=True)\n",
    "df['startdatum_monteur'] = pd.to_datetime(df['startdatum_monteur'], infer_datetime_format=True)\n",
    "df['oplosdatum'] = pd.to_datetime(df['oplosdatum'], infer_datetime_format=True)\n",
    "df['geocode'] = pd.to_numeric(df.geocode, errors='coerce')"
   ]
  },
  {
   "cell_type": "code",
   "execution_count": 8,
   "metadata": {},
   "outputs": [
    {
     "name": "stdout",
     "output_type": "stream",
     "text": [
      "Amount of rows 413724, amount of columns 139.\n"
     ]
    }
   ],
   "source": [
    "#: Drop rows where there are nan values.\n",
    "df = df.dropna(subset=['meldnummer', 'melddatum', 'startdatum_monteur', 'oplosdatum', 'prioriteit', 'oorzaakcode', 'geocode'])\n",
    "print(f'Amount of rows {df.shape[0]}, amount of columns {df.shape[1]}.')"
   ]
  },
  {
   "cell_type": "code",
   "execution_count": 9,
   "metadata": {},
   "outputs": [
    {
     "name": "stdout",
     "output_type": "stream",
     "text": [
      "Amount of rows 400124, amount of columns 139.\n"
     ]
    }
   ],
   "source": [
    "#: Delete all rows with duplicate dates.\n",
    "df = df[df.melddatum != df.startdatum_monteur]\n",
    "df = df[df.melddatum != df.oplosdatum]\n",
    "df = df[df.startdatum_monteur != df.oplosdatum]\n",
    "print(f'Amount of rows {df.shape[0]}, amount of columns {df.shape[1]}.')"
   ]
  },
  {
   "cell_type": "code",
   "execution_count": 10,
   "metadata": {},
   "outputs": [
    {
     "name": "stdout",
     "output_type": "stream",
     "text": [
      "Amount of rows 397767, amount of columns 139.\n"
     ]
    }
   ],
   "source": [
    "#: Delete all rows with illogical dates.\n",
    "df = df[df.melddatum < df.startdatum_monteur]\n",
    "df = df[df.melddatum < df.oplosdatum]\n",
    "df = df[df.startdatum_monteur < df.oplosdatum]\n",
    "print(f'Amount of rows {df.shape[0]}, amount of columns {df.shape[1]}.')"
   ]
  },
  {
   "cell_type": "code",
   "execution_count": 11,
   "metadata": {
    "scrolled": true
   },
   "outputs": [
    {
     "name": "stdout",
     "output_type": "stream",
     "text": [
      "Amount of rows 263140, amount of columns 139.\n"
     ]
    }
   ],
   "source": [
    "#: Filter duplicate meldnummers and keep the last.\n",
    "df = df.drop_duplicates(subset=['meldnummer'], keep='last')\n",
    "print(f'Amount of rows {df.shape[0]}, amount of columns {df.shape[1]}.')"
   ]
  },
  {
   "cell_type": "code",
   "execution_count": 12,
   "metadata": {},
   "outputs": [],
   "source": [
    "#: Add column with hersteltijd.\n",
    "df['hersteltijd'] = (df.oplosdatum - df.startdatum_monteur) / pd.Timedelta(minutes=1)\n",
    "df.hersteltijd = df.hersteltijd.astype(int)"
   ]
  },
  {
   "cell_type": "code",
   "execution_count": 13,
   "metadata": {},
   "outputs": [
    {
     "name": "stdout",
     "output_type": "stream",
     "text": [
      "Amount of rows 260737, amount of columns 140.\n"
     ]
    }
   ],
   "source": [
    "#: Drop rows where hersteltijd is 0 or longer then 360.\n",
    "df = df[df.hersteltijd <= 360]\n",
    "df = df[df.hersteltijd > 0]\n",
    "print(f'Amount of rows {df.shape[0]}, amount of columns {df.shape[1]}.')"
   ]
  },
  {
   "cell_type": "code",
   "execution_count": 14,
   "metadata": {},
   "outputs": [
    {
     "name": "stdout",
     "output_type": "stream",
     "text": [
      "Amount of rows 259196, amount of columns 140.\n"
     ]
    }
   ],
   "source": [
    "#: Drop all rows with non existing geocodes.\n",
    "lijst_geocodes = list(geocodes.geocode)\n",
    "df = df[df['geocode'].isin(lijst_geocodes)]\n",
    "print(f'Amount of rows {df.shape[0]}, amount of columns {df.shape[1]}.')"
   ]
  },
  {
   "cell_type": "code",
   "execution_count": 15,
   "metadata": {},
   "outputs": [
    {
     "name": "stdout",
     "output_type": "stream",
     "text": [
      "Amount of rows 259140, amount of columns 140.\n"
     ]
    }
   ],
   "source": [
    "#: Drop all rows with non existing oorzaak codes.\n",
    "lijst_oorzaakcodes = list(oorzaakcodes.Code)\n",
    "df = df[df['oorzaakcode'].isin(lijst_oorzaakcodes)]\n",
    "print(f'Amount of rows {df.shape[0]}, amount of columns {df.shape[1]}.')"
   ]
  },
  {
   "cell_type": "code",
   "execution_count": 16,
   "metadata": {},
   "outputs": [
    {
     "name": "stdout",
     "output_type": "stream",
     "text": [
      "Amount of rows 259140, amount of columns 140.\n"
     ]
    }
   ],
   "source": [
    "#: Drop all rows with non existing prioriteiten.\n",
    "lijst_prioriteit = range(1, 10)\n",
    "df = df[df['prioriteit'].isin(lijst_prioriteit)]\n",
    "print(f'Amount of rows {df.shape[0]}, amount of columns {df.shape[1]}.')"
   ]
  },
  {
   "cell_type": "markdown",
   "metadata": {},
   "source": [
    "The recovery times are defined per minute, this does not make the dataset transparent or easy to predict. For this reason, we have sorted the recovery times per fifteen minutes."
   ]
  },
  {
   "cell_type": "code",
   "execution_count": 17,
   "metadata": {},
   "outputs": [],
   "source": [
    "#: Create new column repairtimes 15 to represent the 15 minute interval of the original repair time.\n",
    "df['hersteltijd_15'] = None\n",
    "#: Iterate trough all repairtimes in intervals of 15 minutes.\n",
    "for period in range(0, df['hersteltijd'].max(), 15):\n",
    "    df['hersteltijd_15'] = np.where(df['hersteltijd'] > period, period, df['hersteltijd_15'])"
   ]
  },
  {
   "cell_type": "code",
   "execution_count": 18,
   "metadata": {},
   "outputs": [],
   "source": [
    "#: Convert some numeric values to int\n",
    "df = df.astype({ 'meldnummer': 'int32', 'prioriteit': 'int32', 'geocode': 'int32', 'oorzaakcode': 'int32', 'hersteltijd_15': 'int32' })"
   ]
  },
  {
   "cell_type": "code",
   "execution_count": 19,
   "metadata": {},
   "outputs": [
    {
     "data": {
      "text/plain": [
       "602741     1.0\n",
       "471691    50.0\n",
       "459365    10.0\n",
       "297847     3.0\n",
       "363063     8.0\n",
       "Name: stm_arbeid, dtype: float64"
      ]
     },
     "execution_count": 19,
     "metadata": {},
     "output_type": "execute_result"
    }
   ],
   "source": [
    "df['stm_arbeid'].sample(5)"
   ]
  },
  {
   "cell_type": "code",
   "execution_count": 20,
   "metadata": {
    "scrolled": true
   },
   "outputs": [
    {
     "data": {
      "text/plain": [
       "meldnummer                   0.004997\n",
       "stm_mon_nr                   0.046049\n",
       "stm_geo_mld_uit_functiepl    0.027174\n",
       "stm_equipm_nr_mld            0.005202\n",
       "stm_km_van_mld              -0.001165\n",
       "stm_km_tot_mld               0.016265\n",
       "prioriteit                  -0.002255\n",
       "stm_mon_nr__statuscode      -0.031056\n",
       "geocode                      0.026947\n",
       "stm_geo_gst_uit_functiepl    0.026947\n",
       "stm_equipm_nr_gst            0.001879\n",
       "stm_km_van_gst              -0.000511\n",
       "stm_km_tot_gst               0.011398\n",
       "oorzaakcode                 -0.050509\n",
       "stm_fh_status               -0.122163\n",
       "stm_tao_telling_mutatie      0.024709\n",
       "stm_contractgeb_mld         -0.019410\n",
       "stm_contractgeb_gst         -0.014085\n",
       "stm_arbeid                   0.792926\n",
       "stm_progfh_gw_lwd_datum      0.064661\n",
       "stm_progfh_gw_teller         0.103485\n",
       "duur                         0.662829\n",
       "stm_reactie_duur             0.015307\n",
       "stm_status_sapnaarmon        0.007352\n",
       "stm_schadenr                 0.015541\n",
       "stm_rapportage_maand         0.002149\n",
       "stm_rapportage_jaar          0.002508\n",
       "stm_x_actueel_ind           -0.000710\n",
       "stm_x_run_id                 0.016315\n",
       "stm_x_bk                    -0.018198\n",
       "stm_x_vervallen_ind         -0.006518\n",
       "hersteltijd                  1.000000\n",
       "hersteltijd_15               0.996318\n",
       "dtype: float64"
      ]
     },
     "execution_count": 20,
     "metadata": {},
     "output_type": "execute_result"
    }
   ],
   "source": [
    "df.corrwith(df['hersteltijd'])"
   ]
  },
  {
   "cell_type": "markdown",
   "metadata": {},
   "source": [
    "We see here that \"stm_arbeid\" has a very high correlation of 0.792926, unfortunately we can't use this because we don't know what it means. If we had to take a guess, we think that it is actual labor time that was needed for the repair, but you only know this afterwards of course. Furthermore we see \"stm_progfh_gw_teller\" at number 2 which is the number of times a description has been changed, it correlates a bit with the recovery time. The logic behind this would be that for more complex problems you modify the description several times to describe the newly discovered problem.\n",
    "\n",
    "These columns don't correlate well so we go for our own logic, \"geocode\", \"oorzaakcode\" and \"prioriteit\". Geocode because the location can have a lot of influence on the repair, if it is in a busy city it will probably take longer than a quiet meadow. Oorzaakcode because a certain problem can take longer than another and prioriteit because something with a high priority or can be tackled faster or can take longer."
   ]
  },
  {
   "cell_type": "code",
   "execution_count": 21,
   "metadata": {},
   "outputs": [],
   "source": [
    "#: Reorder and select high correlation columns.\n",
    "df = df[['meldnummer', 'melddatum', 'startdatum_monteur', 'oplosdatum', 'prioriteit', 'oorzaakcode', 'geocode', \n",
    "         'eerste_beschrijving', 'tweede_beschrijving', 'derde_beschrijving', 'hersteltijd', 'hersteltijd_15']]"
   ]
  },
  {
   "cell_type": "code",
   "execution_count": 22,
   "metadata": {},
   "outputs": [
    {
     "name": "stdout",
     "output_type": "stream",
     "text": [
      "Minimal repair time: 0, maximal repair time: 345\n",
      "Minimal repair time: 0, maximal repair time: 195\n",
      "Amount of rows 252751, amount of columns 12.\n"
     ]
    }
   ],
   "source": [
    "print(f'Minimal repair time: {df[\"hersteltijd_15\"].min()}, maximal repair time: {df[\"hersteltijd_15\"].max()}')\n",
    "df = df[(np.abs(stats.zscore(df[['hersteltijd_15']])) < 3).all(axis=1)]\n",
    "print(f'Minimal repair time: {df[\"hersteltijd_15\"].min()}, maximal repair time: {df[\"hersteltijd_15\"].max()}')\n",
    "print(f'Amount of rows {df.shape[0]}, amount of columns {df.shape[1]}.')"
   ]
  },
  {
   "cell_type": "markdown",
   "metadata": {},
   "source": [
    "Here we delete all the outliers to have a better dataset so we can predict values easier."
   ]
  },
  {
   "cell_type": "markdown",
   "metadata": {},
   "source": [
    "## Displaying/Checking"
   ]
  },
  {
   "cell_type": "code",
   "execution_count": 23,
   "metadata": {
    "scrolled": true
   },
   "outputs": [
    {
     "data": {
      "text/html": [
       "<div>\n",
       "<style scoped>\n",
       "    .dataframe tbody tr th:only-of-type {\n",
       "        vertical-align: middle;\n",
       "    }\n",
       "\n",
       "    .dataframe tbody tr th {\n",
       "        vertical-align: top;\n",
       "    }\n",
       "\n",
       "    .dataframe thead th {\n",
       "        text-align: right;\n",
       "    }\n",
       "</style>\n",
       "<table border=\"1\" class=\"dataframe\">\n",
       "  <thead>\n",
       "    <tr style=\"text-align: right;\">\n",
       "      <th></th>\n",
       "      <th>meldnummer</th>\n",
       "      <th>melddatum</th>\n",
       "      <th>startdatum_monteur</th>\n",
       "      <th>oplosdatum</th>\n",
       "      <th>prioriteit</th>\n",
       "      <th>oorzaakcode</th>\n",
       "      <th>geocode</th>\n",
       "      <th>eerste_beschrijving</th>\n",
       "      <th>tweede_beschrijving</th>\n",
       "      <th>derde_beschrijving</th>\n",
       "      <th>hersteltijd</th>\n",
       "      <th>hersteltijd_15</th>\n",
       "    </tr>\n",
       "  </thead>\n",
       "  <tbody>\n",
       "    <tr>\n",
       "      <th>221859</th>\n",
       "      <td>80351261</td>\n",
       "      <td>2006-03-07 10:57:10</td>\n",
       "      <td>2006-03-07 13:42:00</td>\n",
       "      <td>2006-03-07 14:01:00</td>\n",
       "      <td>2</td>\n",
       "      <td>215</td>\n",
       "      <td>49</td>\n",
       "      <td>Mo Sein 625 rood gedoofd Logboeknr  RBV  :  2...</td>\n",
       "      <td>Mo Sein 625 rood gedoofd</td>\n",
       "      <td>Lamp defect. Lamp lijkt optisch goed maa</td>\n",
       "      <td>19</td>\n",
       "      <td>15</td>\n",
       "    </tr>\n",
       "    <tr>\n",
       "      <th>746592</th>\n",
       "      <td>80838699</td>\n",
       "      <td>2016-02-24 09:37:34</td>\n",
       "      <td>2016-02-24 10:00:00</td>\n",
       "      <td>2016-02-24 13:06:00</td>\n",
       "      <td>2</td>\n",
       "      <td>151</td>\n",
       "      <td>506</td>\n",
       "      <td>Amf : gasleiding geraakt thv wsl 657, graag di...</td>\n",
       "      <td>Amf : gasleiding geraakt thv wsl 657, gr</td>\n",
       "      <td>lekke gasleiding gebouwen</td>\n",
       "      <td>186</td>\n",
       "      <td>180</td>\n",
       "    </tr>\n",
       "    <tr>\n",
       "      <th>388868</th>\n",
       "      <td>80560373</td>\n",
       "      <td>2010-05-26 11:53:00</td>\n",
       "      <td>2010-05-26 12:25:00</td>\n",
       "      <td>2010-05-26 13:00:00</td>\n",
       "      <td>5</td>\n",
       "      <td>215</td>\n",
       "      <td>529</td>\n",
       "      <td>Bkl : Verlichting gedoofd van klok sp 2 naast...</td>\n",
       "      <td>Bkl : Verlichting gedoofd van klok sp 2</td>\n",
       "      <td>NaN</td>\n",
       "      <td>35</td>\n",
       "      <td>30</td>\n",
       "    </tr>\n",
       "    <tr>\n",
       "      <th>229711</th>\n",
       "      <td>80361263</td>\n",
       "      <td>2006-05-30 17:18:00</td>\n",
       "      <td>2006-05-30 17:57:00</td>\n",
       "      <td>2006-05-30 18:02:00</td>\n",
       "      <td>1</td>\n",
       "      <td>230</td>\n",
       "      <td>608</td>\n",
       "      <td>Apd wsl 67 RL nic. tobs..</td>\n",
       "      <td>Apd wsl 67 RL nic. tobs..</td>\n",
       "      <td>NaN</td>\n",
       "      <td>5</td>\n",
       "      <td>0</td>\n",
       "    </tr>\n",
       "    <tr>\n",
       "      <th>260656</th>\n",
       "      <td>80399620</td>\n",
       "      <td>2007-03-15 06:01:00</td>\n",
       "      <td>2007-03-15 08:30:00</td>\n",
       "      <td>2007-03-15 08:44:00</td>\n",
       "      <td>4</td>\n",
       "      <td>215</td>\n",
       "      <td>618</td>\n",
       "      <td>Ehv : SMC Telegyr 8020 Overvieuwsysteem lamp ...</td>\n",
       "      <td>Ehv : SMC Telegyr 8020 Overvieuwsysteem</td>\n",
       "      <td>NaN</td>\n",
       "      <td>14</td>\n",
       "      <td>0</td>\n",
       "    </tr>\n",
       "  </tbody>\n",
       "</table>\n",
       "</div>"
      ],
      "text/plain": [
       "        meldnummer           melddatum  startdatum_monteur  \\\n",
       "221859    80351261 2006-03-07 10:57:10 2006-03-07 13:42:00   \n",
       "746592    80838699 2016-02-24 09:37:34 2016-02-24 10:00:00   \n",
       "388868    80560373 2010-05-26 11:53:00 2010-05-26 12:25:00   \n",
       "229711    80361263 2006-05-30 17:18:00 2006-05-30 17:57:00   \n",
       "260656    80399620 2007-03-15 06:01:00 2007-03-15 08:30:00   \n",
       "\n",
       "                oplosdatum  prioriteit  oorzaakcode  geocode  \\\n",
       "221859 2006-03-07 14:01:00           2          215       49   \n",
       "746592 2016-02-24 13:06:00           2          151      506   \n",
       "388868 2010-05-26 13:00:00           5          215      529   \n",
       "229711 2006-05-30 18:02:00           1          230      608   \n",
       "260656 2007-03-15 08:44:00           4          215      618   \n",
       "\n",
       "                                      eerste_beschrijving  \\\n",
       "221859   Mo Sein 625 rood gedoofd Logboeknr  RBV  :  2...   \n",
       "746592  Amf : gasleiding geraakt thv wsl 657, graag di...   \n",
       "388868   Bkl : Verlichting gedoofd van klok sp 2 naast...   \n",
       "229711                          Apd wsl 67 RL nic. tobs..   \n",
       "260656   Ehv : SMC Telegyr 8020 Overvieuwsysteem lamp ...   \n",
       "\n",
       "                             tweede_beschrijving  \\\n",
       "221859                  Mo Sein 625 rood gedoofd   \n",
       "746592  Amf : gasleiding geraakt thv wsl 657, gr   \n",
       "388868   Bkl : Verlichting gedoofd van klok sp 2   \n",
       "229711                 Apd wsl 67 RL nic. tobs..   \n",
       "260656   Ehv : SMC Telegyr 8020 Overvieuwsysteem   \n",
       "\n",
       "                              derde_beschrijving  hersteltijd  hersteltijd_15  \n",
       "221859  Lamp defect. Lamp lijkt optisch goed maa           19              15  \n",
       "746592                 lekke gasleiding gebouwen          186             180  \n",
       "388868                                       NaN           35              30  \n",
       "229711                                       NaN            5               0  \n",
       "260656                                       NaN           14               0  "
      ]
     },
     "execution_count": 23,
     "metadata": {},
     "output_type": "execute_result"
    }
   ],
   "source": [
    "df.sample(5)"
   ]
  },
  {
   "cell_type": "code",
   "execution_count": 24,
   "metadata": {},
   "outputs": [
    {
     "data": {
      "text/plain": [
       "Index(['meldnummer', 'melddatum', 'startdatum_monteur', 'oplosdatum',\n",
       "       'prioriteit', 'oorzaakcode', 'geocode', 'eerste_beschrijving',\n",
       "       'tweede_beschrijving', 'derde_beschrijving', 'hersteltijd',\n",
       "       'hersteltijd_15'],\n",
       "      dtype='object')"
      ]
     },
     "execution_count": 24,
     "metadata": {},
     "output_type": "execute_result"
    }
   ],
   "source": [
    "df.columns"
   ]
  },
  {
   "cell_type": "code",
   "execution_count": 25,
   "metadata": {
    "scrolled": true
   },
   "outputs": [
    {
     "data": {
      "text/plain": [
       "meldnummer                      int32\n",
       "melddatum              datetime64[ns]\n",
       "startdatum_monteur     datetime64[ns]\n",
       "oplosdatum             datetime64[ns]\n",
       "prioriteit                      int32\n",
       "oorzaakcode                     int32\n",
       "geocode                         int32\n",
       "eerste_beschrijving            object\n",
       "tweede_beschrijving            object\n",
       "derde_beschrijving             object\n",
       "hersteltijd                     int32\n",
       "hersteltijd_15                  int32\n",
       "dtype: object"
      ]
     },
     "execution_count": 25,
     "metadata": {},
     "output_type": "execute_result"
    }
   ],
   "source": [
    "df.dtypes"
   ]
  },
  {
   "cell_type": "code",
   "execution_count": 26,
   "metadata": {},
   "outputs": [
    {
     "data": {
      "text/plain": [
       "meldnummer                  0\n",
       "melddatum                   0\n",
       "startdatum_monteur          0\n",
       "oplosdatum                  0\n",
       "prioriteit                  0\n",
       "oorzaakcode                 0\n",
       "geocode                     0\n",
       "eerste_beschrijving         6\n",
       "tweede_beschrijving         0\n",
       "derde_beschrijving     171874\n",
       "hersteltijd                 0\n",
       "hersteltijd_15              0\n",
       "dtype: int64"
      ]
     },
     "execution_count": 26,
     "metadata": {},
     "output_type": "execute_result"
    }
   ],
   "source": [
    "pd.isnull(df).sum()"
   ]
  },
  {
   "cell_type": "markdown",
   "metadata": {},
   "source": [
    "## Creating a subset"
   ]
  },
  {
   "cell_type": "code",
   "execution_count": 27,
   "metadata": {},
   "outputs": [],
   "source": [
    "subset_df = df.rename(columns={'eerste_beschrijving': 'beschrijving'}).head(10)\n",
    "subset_df = subset_df[['meldnummer', 'oorzaakcode', 'prioriteit', 'melddatum', 'geocode', 'beschrijving', 'hersteltijd', 'hersteltijd_15']]"
   ]
  },
  {
   "cell_type": "markdown",
   "metadata": {},
   "source": [
    "## Saving"
   ]
  },
  {
   "cell_type": "code",
   "execution_count": 28,
   "metadata": {},
   "outputs": [],
   "source": [
    "#: Save cleaned version and a subset.\n",
    "df.to_csv('../Data/CSV/cleaned.csv', sep=';', index=False)\n",
    "subset_df.to_csv('../Data/CSV/subset.csv', sep=';', index=False)"
   ]
  }
 ],
 "metadata": {
  "interpreter": {
   "hash": "4fa7b92caffbca6c91cf54fbc49c4ba73172e99e461af37e11ba749c91bd0519"
  },
  "kernelspec": {
   "display_name": "Python 3",
   "language": "python",
   "name": "python3"
  },
  "language_info": {
   "codemirror_mode": {
    "name": "ipython",
    "version": 3
   },
   "file_extension": ".py",
   "mimetype": "text/x-python",
   "name": "python",
   "nbconvert_exporter": "python",
   "pygments_lexer": "ipython3",
   "version": "3.8.3"
  }
 },
 "nbformat": 4,
 "nbformat_minor": 4
}
